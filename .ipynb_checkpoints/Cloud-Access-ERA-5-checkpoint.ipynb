{
 "cells": [
  {
   "cell_type": "markdown",
   "metadata": {},
   "source": [
    "# Cloud Access to ERA-5 \n",
    "Notes from OHW 2020 tutorial by Chelle Gentemann"
   ]
  },
  {
   "cell_type": "code",
   "execution_count": 1,
   "metadata": {},
   "outputs": [],
   "source": [
    "# filter some warning messages\n",
    "import warnings \n",
    "warnings.filterwarnings(\"ignore\") \n",
    "\n",
    "#libraries\n",
    "import datetime as dt\n",
    "import xarray as xr\n",
    "import fsspec\n",
    "import s3fs\n",
    "from matplotlib import pyplot as plt\n",
    "import numpy as np\n",
    "import pandas as pd\n",
    "# make datasets display nicely\n",
    "xr.set_options(display_style=\"html\")  \n",
    "\n",
    "#magic fncts #put static images of your plot embedded in the notebook\n",
    "%matplotlib inline  \n",
    "plt.rcParams['figure.figsize'] = 12, 6\n",
    "%config InlineBackend.figure_format = 'retina' "
   ]
  },
  {
   "cell_type": "markdown",
   "metadata": {},
   "source": [
    "Be carefull for what you ask for with accessing ERA-5 data from the Amazon Web Services S3 bucket. The directory is set up such that the smallest unit you can retrieve is one month of an hourly, 31-km resolution time series of the entire spatial domain (the world) for one variable. Sometimes this is a measurement made at multiple depths/elevations too. Point is, you could accidentally run out of RAM retrieving data this way. \n",
    "Files retrieved are in the NetCDF format. The organization of the directories follow `/{year}/{month}/main.nc` or `/{year}/{month}/data/{var}.nc`"
   ]
  },
  {
   "cell_type": "markdown",
   "metadata": {},
   "source": [
    "### Retrieving a file\n",
    "This is not the most efficient way to do this (that would be a general function that uses these); this is just a means to an end."
   ]
  },
  {
   "cell_type": "code",
   "execution_count": null,
   "metadata": {},
   "outputs": [],
   "source": [
    "fs = s3fs.S3FileSystem(anon=True)\n",
    "\n",
    "# For a full year of data, where syr is the year desired as a string\n",
    "# file_location = fs.glob('s3://era5-pds/'+syr+'/*/*.nc') \n",
    "\n",
    "# Or if you only want a single variable, where var is the variable name as a string\n",
    "# file_location = fs.glob('s3://era5-pds/'+syr+'/*/data/'+var+'*.nc')\n",
    "\n",
    "# the field  after syr that is replaced by /*/ is where you would put a single month if desired\n",
    "\n",
    "file_ob = [fs.open(file) for file in file_location]\n",
    "\n",
    "# dataset is stored in this variable ds\n",
    "ds=xr.open_mfdataset(file_ob,combine='nested',concat_dim='time0') # xarray dataset struct makes it easier to keep track of metadata"
   ]
  }
 ],
 "metadata": {
  "kernelspec": {
   "display_name": "Python 3",
   "language": "python",
   "name": "python3"
  },
  "language_info": {
   "codemirror_mode": {
    "name": "ipython",
    "version": 3
   },
   "file_extension": ".py",
   "mimetype": "text/x-python",
   "name": "python",
   "nbconvert_exporter": "python",
   "pygments_lexer": "ipython3",
   "version": "3.7.4"
  }
 },
 "nbformat": 4,
 "nbformat_minor": 4
}
